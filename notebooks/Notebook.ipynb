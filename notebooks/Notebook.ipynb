{
 "cells": [
  {
   "cell_type": "markdown",
   "id": "16bb4c32-844e-4b55-b1f1-47970096da01",
   "metadata": {},
   "source": [
    "## Imports"
   ]
  },
  {
   "cell_type": "code",
   "execution_count": 1,
   "id": "5803bdc5-6fa1-4916-9337-9dac928ef690",
   "metadata": {},
   "outputs": [],
   "source": [
    "import pandas as pd\n",
    "import inflection"
   ]
  },
  {
   "cell_type": "markdown",
   "id": "5a058ce3-ba90-45c4-99f6-4ba2d39abc92",
   "metadata": {},
   "source": [
    "## Funções"
   ]
  },
  {
   "cell_type": "code",
   "execution_count": 2,
   "id": "61ece7e4-f0cc-468f-91cf-617e0a5d6bae",
   "metadata": {},
   "outputs": [],
   "source": [
    "# Preenchimento do nome dos países\n",
    "COUNTRIES = {\n",
    "    1: \"India\",\n",
    "    14: \"Australia\",\n",
    "    30: \"Brazil\",\n",
    "    37: \"Canada\",\n",
    "    94: \"Indonesia\",\n",
    "    148: \"New Zeland\",\n",
    "    162: \"Philippines\",\n",
    "    166: \"Qatar\",\n",
    "    184: \"Singapure\",\n",
    "    189: \"South Africa\",\n",
    "    191: \"Sri Lanka\",\n",
    "    208: \"Turkey\",\n",
    "    214: \"United Arab Emirates\",\n",
    "    215: \"England\",\n",
    "    216: \"United States of America\",\n",
    "}\n",
    "def country_name(country_id):\n",
    "    return COUNTRIES[country_id]\n",
    "\n",
    "# Criação do Tipo de Categoria de Comida\n",
    "def create_price_tye(price_range):\n",
    "    if price_range == 1:\n",
    "        return \"cheap\"\n",
    "    elif price_range == 2:\n",
    "        return \"normal\"\n",
    "    elif price_range == 3:\n",
    "        return \"expensive\"\n",
    "    else:\n",
    "        return \"gourmet\"\n",
    "\n",
    "# Criação do nome das Cores\n",
    "COLORS = {\n",
    "    \"3F7E00\": \"darkgreen\",\n",
    "    \"5BA829\": \"green\",\n",
    "    \"9ACD32\": \"lightgreen\",\n",
    "    \"CDD614\": \"orange\",\n",
    "    \"FFBA00\": \"red\",\n",
    "    \"CBCBC8\": \"darkred\",\n",
    "    \"FF7800\": \"darkred\",\n",
    "}\n",
    "def color_name(color_code):\n",
    "    return COLORS[color_code]\n",
    "\n",
    "# Renomear as colunas do DataFrame\n",
    "def rename_columns(dataframe):\n",
    "    df = dataframe.copy()\n",
    "    title = lambda x: inflection.titleize(x)\n",
    "    snakecase = lambda x: inflection.underscore(x)\n",
    "    spaces = lambda x: x.replace(\" \", \"\")\n",
    "    cols_old = list(df.columns)\n",
    "    cols_old = list(map(title, cols_old))\n",
    "    cols_old = list(map(spaces, cols_old))\n",
    "    cols_new = list(map(snakecase, cols_old))\n",
    "    df.columns = cols_new\n",
    "    return df"
   ]
  },
  {
   "cell_type": "markdown",
   "id": "0069e291-c94c-4f38-82c9-36a6cab4e5f2",
   "metadata": {},
   "source": [
    "## Carregar dados"
   ]
  },
  {
   "cell_type": "code",
   "execution_count": 6,
   "id": "13ba8f9b-c40f-450b-b51f-3b2e903099cd",
   "metadata": {},
   "outputs": [],
   "source": [
    "df = pd.read_csv('/home/emerson/repos/rangohub/dataset/zomato.csv')\n",
    "df1 = df.copy()"
   ]
  },
  {
   "cell_type": "markdown",
   "id": "a4d26e7c-858f-4d8c-aa65-26e256215b4a",
   "metadata": {},
   "source": [
    "## Renomear Colunas"
   ]
  },
  {
   "cell_type": "code",
   "execution_count": 7,
   "id": "558d62a4-a5d2-45be-adf8-3b0fb0b9c4f4",
   "metadata": {},
   "outputs": [],
   "source": [
    "df1 = rename_columns(df1)"
   ]
  },
  {
   "cell_type": "markdown",
   "id": "5bd01c91-1d82-4b21-86af-1ef1ff791139",
   "metadata": {},
   "source": [
    "## Processar Dados"
   ]
  },
  {
   "cell_type": "code",
   "execution_count": 8,
   "id": "08e379d4-9017-4bf0-9fef-6efdb86b499b",
   "metadata": {},
   "outputs": [],
   "source": [
    "df1[\"price_type\"] = df1.loc[:, \"price_range\"].apply(lambda x: create_price_tye(x))\n",
    "\n",
    "df1[\"country_name\"] = df1.loc[:, \"country_code\"].apply(lambda x: country_name(x))\n",
    "\n",
    "df1[\"color_name\"] = df1.loc[:, \"rating_color\"].apply(lambda x: color_name(x))\n",
    "\n",
    "#  categorizar restaurantes somente por um tipo de culinária\n",
    "df1[\"cuisines\"] = df1.loc[:, \"cuisines\"].apply(lambda x: str(x).split(\",\")[0])"
   ]
  },
  {
   "cell_type": "markdown",
   "id": "4697a45d-1a4b-4c1a-8b6c-1335f5ac0e4f",
   "metadata": {},
   "source": [
    "## Descrição dos Dados"
   ]
  },
  {
   "cell_type": "code",
   "execution_count": 9,
   "id": "02e45336-c01d-493a-aa40-4f66573e0060",
   "metadata": {},
   "outputs": [
    {
     "data": {
      "text/html": [
       "<div>\n",
       "<style scoped>\n",
       "    .dataframe tbody tr th:only-of-type {\n",
       "        vertical-align: middle;\n",
       "    }\n",
       "\n",
       "    .dataframe tbody tr th {\n",
       "        vertical-align: top;\n",
       "    }\n",
       "\n",
       "    .dataframe thead th {\n",
       "        text-align: right;\n",
       "    }\n",
       "</style>\n",
       "<table border=\"1\" class=\"dataframe\">\n",
       "  <thead>\n",
       "    <tr style=\"text-align: right;\">\n",
       "      <th></th>\n",
       "      <th>restaurant_id</th>\n",
       "      <th>restaurant_name</th>\n",
       "      <th>country_code</th>\n",
       "      <th>city</th>\n",
       "      <th>address</th>\n",
       "      <th>locality</th>\n",
       "      <th>locality_verbose</th>\n",
       "      <th>longitude</th>\n",
       "      <th>latitude</th>\n",
       "      <th>cuisines</th>\n",
       "      <th>...</th>\n",
       "      <th>is_delivering_now</th>\n",
       "      <th>switch_to_order_menu</th>\n",
       "      <th>price_range</th>\n",
       "      <th>aggregate_rating</th>\n",
       "      <th>rating_color</th>\n",
       "      <th>rating_text</th>\n",
       "      <th>votes</th>\n",
       "      <th>price_type</th>\n",
       "      <th>country_name</th>\n",
       "      <th>color_name</th>\n",
       "    </tr>\n",
       "  </thead>\n",
       "  <tbody>\n",
       "    <tr>\n",
       "      <th>0</th>\n",
       "      <td>6310675</td>\n",
       "      <td>Mama Lou's Italian Kitchen</td>\n",
       "      <td>162</td>\n",
       "      <td>Las Piñas City</td>\n",
       "      <td>Block 1, Lot 36, Tropical Avenue Corner Tropic...</td>\n",
       "      <td>BF International</td>\n",
       "      <td>BF International, Las Piñas City</td>\n",
       "      <td>121.009787</td>\n",
       "      <td>14.447615</td>\n",
       "      <td>Italian</td>\n",
       "      <td>...</td>\n",
       "      <td>0</td>\n",
       "      <td>0</td>\n",
       "      <td>3</td>\n",
       "      <td>4.6</td>\n",
       "      <td>3F7E00</td>\n",
       "      <td>Excellent</td>\n",
       "      <td>619</td>\n",
       "      <td>expensive</td>\n",
       "      <td>Philippines</td>\n",
       "      <td>darkgreen</td>\n",
       "    </tr>\n",
       "    <tr>\n",
       "      <th>1</th>\n",
       "      <td>6310675</td>\n",
       "      <td>Mama Lou's Italian Kitchen</td>\n",
       "      <td>162</td>\n",
       "      <td>Las Piñas City</td>\n",
       "      <td>Block 1, Lot 36, Tropical Avenue Corner Tropic...</td>\n",
       "      <td>BF International</td>\n",
       "      <td>BF International, Las Piñas City</td>\n",
       "      <td>121.009787</td>\n",
       "      <td>14.447615</td>\n",
       "      <td>Italian</td>\n",
       "      <td>...</td>\n",
       "      <td>0</td>\n",
       "      <td>0</td>\n",
       "      <td>3</td>\n",
       "      <td>4.6</td>\n",
       "      <td>3F7E00</td>\n",
       "      <td>Excellent</td>\n",
       "      <td>619</td>\n",
       "      <td>expensive</td>\n",
       "      <td>Philippines</td>\n",
       "      <td>darkgreen</td>\n",
       "    </tr>\n",
       "    <tr>\n",
       "      <th>2</th>\n",
       "      <td>6314542</td>\n",
       "      <td>Blackbird</td>\n",
       "      <td>162</td>\n",
       "      <td>Makati City</td>\n",
       "      <td>Nielson Tower, Ayala Triangle Gardens, Salcedo...</td>\n",
       "      <td>Ayala Triangle Gardens, Salcedo Village, Makat...</td>\n",
       "      <td>Ayala Triangle Gardens, Salcedo Village, Makat...</td>\n",
       "      <td>121.024562</td>\n",
       "      <td>14.556042</td>\n",
       "      <td>European</td>\n",
       "      <td>...</td>\n",
       "      <td>0</td>\n",
       "      <td>0</td>\n",
       "      <td>4</td>\n",
       "      <td>4.7</td>\n",
       "      <td>3F7E00</td>\n",
       "      <td>Excellent</td>\n",
       "      <td>469</td>\n",
       "      <td>gourmet</td>\n",
       "      <td>Philippines</td>\n",
       "      <td>darkgreen</td>\n",
       "    </tr>\n",
       "    <tr>\n",
       "      <th>3</th>\n",
       "      <td>6301293</td>\n",
       "      <td>Banapple</td>\n",
       "      <td>162</td>\n",
       "      <td>Makati City</td>\n",
       "      <td>Ayala Triangle Gardens, Salcedo Village, Makat...</td>\n",
       "      <td>Ayala Triangle Gardens, Salcedo Village, Makat...</td>\n",
       "      <td>Ayala Triangle Gardens, Salcedo Village, Makat...</td>\n",
       "      <td>121.023171</td>\n",
       "      <td>14.556196</td>\n",
       "      <td>Filipino</td>\n",
       "      <td>...</td>\n",
       "      <td>0</td>\n",
       "      <td>0</td>\n",
       "      <td>3</td>\n",
       "      <td>4.4</td>\n",
       "      <td>5BA829</td>\n",
       "      <td>Very Good</td>\n",
       "      <td>867</td>\n",
       "      <td>expensive</td>\n",
       "      <td>Philippines</td>\n",
       "      <td>green</td>\n",
       "    </tr>\n",
       "    <tr>\n",
       "      <th>4</th>\n",
       "      <td>6315689</td>\n",
       "      <td>Bad Bird</td>\n",
       "      <td>162</td>\n",
       "      <td>Makati City</td>\n",
       "      <td>Hole In The Wall, Floor 4, Century City Mall, ...</td>\n",
       "      <td>Century City Mall, Poblacion, Makati City</td>\n",
       "      <td>Century City Mall, Poblacion, Makati City, Mak...</td>\n",
       "      <td>121.027708</td>\n",
       "      <td>14.565899</td>\n",
       "      <td>American</td>\n",
       "      <td>...</td>\n",
       "      <td>0</td>\n",
       "      <td>0</td>\n",
       "      <td>3</td>\n",
       "      <td>4.4</td>\n",
       "      <td>5BA829</td>\n",
       "      <td>Very Good</td>\n",
       "      <td>858</td>\n",
       "      <td>expensive</td>\n",
       "      <td>Philippines</td>\n",
       "      <td>green</td>\n",
       "    </tr>\n",
       "  </tbody>\n",
       "</table>\n",
       "<p>5 rows × 24 columns</p>\n",
       "</div>"
      ],
      "text/plain": [
       "   restaurant_id             restaurant_name  country_code            city  \\\n",
       "0        6310675  Mama Lou's Italian Kitchen           162  Las Piñas City   \n",
       "1        6310675  Mama Lou's Italian Kitchen           162  Las Piñas City   \n",
       "2        6314542                   Blackbird           162     Makati City   \n",
       "3        6301293                    Banapple           162     Makati City   \n",
       "4        6315689                    Bad Bird           162     Makati City   \n",
       "\n",
       "                                             address  \\\n",
       "0  Block 1, Lot 36, Tropical Avenue Corner Tropic...   \n",
       "1  Block 1, Lot 36, Tropical Avenue Corner Tropic...   \n",
       "2  Nielson Tower, Ayala Triangle Gardens, Salcedo...   \n",
       "3  Ayala Triangle Gardens, Salcedo Village, Makat...   \n",
       "4  Hole In The Wall, Floor 4, Century City Mall, ...   \n",
       "\n",
       "                                            locality  \\\n",
       "0                                   BF International   \n",
       "1                                   BF International   \n",
       "2  Ayala Triangle Gardens, Salcedo Village, Makat...   \n",
       "3  Ayala Triangle Gardens, Salcedo Village, Makat...   \n",
       "4          Century City Mall, Poblacion, Makati City   \n",
       "\n",
       "                                    locality_verbose   longitude   latitude  \\\n",
       "0                   BF International, Las Piñas City  121.009787  14.447615   \n",
       "1                   BF International, Las Piñas City  121.009787  14.447615   \n",
       "2  Ayala Triangle Gardens, Salcedo Village, Makat...  121.024562  14.556042   \n",
       "3  Ayala Triangle Gardens, Salcedo Village, Makat...  121.023171  14.556196   \n",
       "4  Century City Mall, Poblacion, Makati City, Mak...  121.027708  14.565899   \n",
       "\n",
       "   cuisines  ...  is_delivering_now switch_to_order_menu  price_range  \\\n",
       "0   Italian  ...                  0                    0            3   \n",
       "1   Italian  ...                  0                    0            3   \n",
       "2  European  ...                  0                    0            4   \n",
       "3  Filipino  ...                  0                    0            3   \n",
       "4  American  ...                  0                    0            3   \n",
       "\n",
       "   aggregate_rating  rating_color  rating_text  votes  price_type  \\\n",
       "0               4.6        3F7E00    Excellent    619   expensive   \n",
       "1               4.6        3F7E00    Excellent    619   expensive   \n",
       "2               4.7        3F7E00    Excellent    469     gourmet   \n",
       "3               4.4        5BA829    Very Good    867   expensive   \n",
       "4               4.4        5BA829    Very Good    858   expensive   \n",
       "\n",
       "  country_name color_name  \n",
       "0  Philippines  darkgreen  \n",
       "1  Philippines  darkgreen  \n",
       "2  Philippines  darkgreen  \n",
       "3  Philippines      green  \n",
       "4  Philippines      green  \n",
       "\n",
       "[5 rows x 24 columns]"
      ]
     },
     "execution_count": 9,
     "metadata": {},
     "output_type": "execute_result"
    }
   ],
   "source": [
    "df1.head()"
   ]
  },
  {
   "cell_type": "markdown",
   "id": "f20dafa4-c672-4cc2-b35d-fb242f80a53e",
   "metadata": {},
   "source": [
    "## Dimensão dos Dados"
   ]
  },
  {
   "cell_type": "code",
   "execution_count": 10,
   "id": "c49aa883-438e-4367-b91a-f62929a654fc",
   "metadata": {},
   "outputs": [
    {
     "data": {
      "text/plain": [
       "(7527, 24)"
      ]
     },
     "execution_count": 10,
     "metadata": {},
     "output_type": "execute_result"
    }
   ],
   "source": [
    "df1.shape"
   ]
  },
  {
   "cell_type": "code",
   "execution_count": 28,
   "id": "cde2d9d5-0a94-4cf0-ba20-4b1389832908",
   "metadata": {},
   "outputs": [
    {
     "data": {
      "text/plain": [
       "['Philippines',\n",
       " 'Brazil',\n",
       " 'Australia',\n",
       " 'United States of America',\n",
       " 'Canada',\n",
       " 'Singapure',\n",
       " 'United Arab Emirates',\n",
       " 'India',\n",
       " 'Indonesia',\n",
       " 'New Zeland',\n",
       " 'England',\n",
       " 'Qatar',\n",
       " 'South Africa',\n",
       " 'Sri Lanka',\n",
       " 'Turkey']"
      ]
     },
     "execution_count": 28,
     "metadata": {},
     "output_type": "execute_result"
    }
   ],
   "source": [
    "df1.loc[:, \"country_name\"].unique().tolist()"
   ]
  },
  {
   "cell_type": "markdown",
   "id": "3bb1713b-cd64-4286-bdfa-e8d39a919006",
   "metadata": {},
   "source": [
    "## Tipos de Dados"
   ]
  },
  {
   "cell_type": "code",
   "execution_count": 11,
   "id": "0bc7f8bb-a7c9-41e8-8758-2b3061b6da5c",
   "metadata": {},
   "outputs": [
    {
     "data": {
      "text/plain": [
       "restaurant_id             int64\n",
       "restaurant_name          object\n",
       "country_code              int64\n",
       "city                     object\n",
       "address                  object\n",
       "locality                 object\n",
       "locality_verbose         object\n",
       "longitude               float64\n",
       "latitude                float64\n",
       "cuisines                 object\n",
       "average_cost_for_two      int64\n",
       "currency                 object\n",
       "has_table_booking         int64\n",
       "has_online_delivery       int64\n",
       "is_delivering_now         int64\n",
       "switch_to_order_menu      int64\n",
       "price_range               int64\n",
       "aggregate_rating        float64\n",
       "rating_color             object\n",
       "rating_text              object\n",
       "votes                     int64\n",
       "price_type               object\n",
       "country_name             object\n",
       "color_name               object\n",
       "dtype: object"
      ]
     },
     "execution_count": 11,
     "metadata": {},
     "output_type": "execute_result"
    }
   ],
   "source": [
    "df1.dtypes"
   ]
  },
  {
   "cell_type": "markdown",
   "id": "8b92d35c-3840-48b1-854a-bb9766cd7aa5",
   "metadata": {},
   "source": [
    "## Checando dados faltantes"
   ]
  },
  {
   "cell_type": "code",
   "execution_count": 12,
   "id": "e2a5b925-cfd9-4510-bec8-7ec63a63e996",
   "metadata": {},
   "outputs": [
    {
     "data": {
      "text/plain": [
       "restaurant_id           0\n",
       "restaurant_name         0\n",
       "country_code            0\n",
       "city                    0\n",
       "address                 0\n",
       "locality                0\n",
       "locality_verbose        0\n",
       "longitude               0\n",
       "latitude                0\n",
       "cuisines                0\n",
       "average_cost_for_two    0\n",
       "currency                0\n",
       "has_table_booking       0\n",
       "has_online_delivery     0\n",
       "is_delivering_now       0\n",
       "switch_to_order_menu    0\n",
       "price_range             0\n",
       "aggregate_rating        0\n",
       "rating_color            0\n",
       "rating_text             0\n",
       "votes                   0\n",
       "price_type              0\n",
       "country_name            0\n",
       "color_name              0\n",
       "dtype: int64"
      ]
     },
     "execution_count": 12,
     "metadata": {},
     "output_type": "execute_result"
    }
   ],
   "source": [
    "df1.isna().sum()"
   ]
  },
  {
   "cell_type": "markdown",
   "id": "2660a5d1-98df-4af7-b2be-a1e100d0d3d7",
   "metadata": {},
   "source": [
    "## Dados estastísticos"
   ]
  },
  {
   "cell_type": "code",
   "execution_count": 13,
   "id": "ae16fa1e-73aa-4344-9eab-f548dca28063",
   "metadata": {},
   "outputs": [
    {
     "data": {
      "text/html": [
       "<div>\n",
       "<style scoped>\n",
       "    .dataframe tbody tr th:only-of-type {\n",
       "        vertical-align: middle;\n",
       "    }\n",
       "\n",
       "    .dataframe tbody tr th {\n",
       "        vertical-align: top;\n",
       "    }\n",
       "\n",
       "    .dataframe thead th {\n",
       "        text-align: right;\n",
       "    }\n",
       "</style>\n",
       "<table border=\"1\" class=\"dataframe\">\n",
       "  <thead>\n",
       "    <tr style=\"text-align: right;\">\n",
       "      <th></th>\n",
       "      <th>restaurant_id</th>\n",
       "      <th>country_code</th>\n",
       "      <th>longitude</th>\n",
       "      <th>latitude</th>\n",
       "      <th>average_cost_for_two</th>\n",
       "      <th>has_table_booking</th>\n",
       "      <th>has_online_delivery</th>\n",
       "      <th>is_delivering_now</th>\n",
       "      <th>switch_to_order_menu</th>\n",
       "      <th>price_range</th>\n",
       "      <th>aggregate_rating</th>\n",
       "      <th>votes</th>\n",
       "    </tr>\n",
       "  </thead>\n",
       "  <tbody>\n",
       "    <tr>\n",
       "      <th>count</th>\n",
       "      <td>7.527000e+03</td>\n",
       "      <td>7527.000000</td>\n",
       "      <td>7527.000000</td>\n",
       "      <td>7527.000000</td>\n",
       "      <td>7.527000e+03</td>\n",
       "      <td>7527.000000</td>\n",
       "      <td>7527.000000</td>\n",
       "      <td>7527.000000</td>\n",
       "      <td>7527.0</td>\n",
       "      <td>7527.000000</td>\n",
       "      <td>7527.000000</td>\n",
       "      <td>7527.000000</td>\n",
       "    </tr>\n",
       "    <tr>\n",
       "      <th>mean</th>\n",
       "      <td>1.055689e+07</td>\n",
       "      <td>93.065365</td>\n",
       "      <td>33.764092</td>\n",
       "      <td>19.332787</td>\n",
       "      <td>7.152113e+03</td>\n",
       "      <td>0.062176</td>\n",
       "      <td>0.352464</td>\n",
       "      <td>0.174306</td>\n",
       "      <td>0.0</td>\n",
       "      <td>2.624552</td>\n",
       "      <td>4.118055</td>\n",
       "      <td>616.401488</td>\n",
       "    </tr>\n",
       "    <tr>\n",
       "      <th>std</th>\n",
       "      <td>7.075141e+06</td>\n",
       "      <td>99.031229</td>\n",
       "      <td>77.395241</td>\n",
       "      <td>23.255979</td>\n",
       "      <td>2.906068e+05</td>\n",
       "      <td>0.241491</td>\n",
       "      <td>0.477769</td>\n",
       "      <td>0.379397</td>\n",
       "      <td>0.0</td>\n",
       "      <td>0.959794</td>\n",
       "      <td>0.680191</td>\n",
       "      <td>1127.697932</td>\n",
       "    </tr>\n",
       "    <tr>\n",
       "      <th>min</th>\n",
       "      <td>5.490000e+02</td>\n",
       "      <td>1.000000</td>\n",
       "      <td>-122.700455</td>\n",
       "      <td>-41.330428</td>\n",
       "      <td>0.000000e+00</td>\n",
       "      <td>0.000000</td>\n",
       "      <td>0.000000</td>\n",
       "      <td>0.000000</td>\n",
       "      <td>0.0</td>\n",
       "      <td>1.000000</td>\n",
       "      <td>0.000000</td>\n",
       "      <td>0.000000</td>\n",
       "    </tr>\n",
       "    <tr>\n",
       "      <th>25%</th>\n",
       "      <td>3.500060e+06</td>\n",
       "      <td>1.000000</td>\n",
       "      <td>-4.258142</td>\n",
       "      <td>12.923378</td>\n",
       "      <td>6.000000e+01</td>\n",
       "      <td>0.000000</td>\n",
       "      <td>0.000000</td>\n",
       "      <td>0.000000</td>\n",
       "      <td>0.0</td>\n",
       "      <td>2.000000</td>\n",
       "      <td>4.000000</td>\n",
       "      <td>152.000000</td>\n",
       "    </tr>\n",
       "    <tr>\n",
       "      <th>50%</th>\n",
       "      <td>7.701457e+06</td>\n",
       "      <td>30.000000</td>\n",
       "      <td>73.785121</td>\n",
       "      <td>25.246955</td>\n",
       "      <td>2.900000e+02</td>\n",
       "      <td>0.000000</td>\n",
       "      <td>0.000000</td>\n",
       "      <td>0.000000</td>\n",
       "      <td>0.0</td>\n",
       "      <td>3.000000</td>\n",
       "      <td>4.200000</td>\n",
       "      <td>335.000000</td>\n",
       "    </tr>\n",
       "    <tr>\n",
       "      <th>75%</th>\n",
       "      <td>1.714715e+07</td>\n",
       "      <td>214.000000</td>\n",
       "      <td>79.833706</td>\n",
       "      <td>31.636552</td>\n",
       "      <td>6.000000e+02</td>\n",
       "      <td>0.000000</td>\n",
       "      <td>1.000000</td>\n",
       "      <td>0.000000</td>\n",
       "      <td>0.0</td>\n",
       "      <td>3.000000</td>\n",
       "      <td>4.500000</td>\n",
       "      <td>663.000000</td>\n",
       "    </tr>\n",
       "    <tr>\n",
       "      <th>max</th>\n",
       "      <td>1.904028e+07</td>\n",
       "      <td>216.000000</td>\n",
       "      <td>175.310552</td>\n",
       "      <td>55.976980</td>\n",
       "      <td>2.500002e+07</td>\n",
       "      <td>1.000000</td>\n",
       "      <td>1.000000</td>\n",
       "      <td>1.000000</td>\n",
       "      <td>0.0</td>\n",
       "      <td>4.000000</td>\n",
       "      <td>4.900000</td>\n",
       "      <td>41333.000000</td>\n",
       "    </tr>\n",
       "  </tbody>\n",
       "</table>\n",
       "</div>"
      ],
      "text/plain": [
       "       restaurant_id  country_code    longitude     latitude  \\\n",
       "count   7.527000e+03   7527.000000  7527.000000  7527.000000   \n",
       "mean    1.055689e+07     93.065365    33.764092    19.332787   \n",
       "std     7.075141e+06     99.031229    77.395241    23.255979   \n",
       "min     5.490000e+02      1.000000  -122.700455   -41.330428   \n",
       "25%     3.500060e+06      1.000000    -4.258142    12.923378   \n",
       "50%     7.701457e+06     30.000000    73.785121    25.246955   \n",
       "75%     1.714715e+07    214.000000    79.833706    31.636552   \n",
       "max     1.904028e+07    216.000000   175.310552    55.976980   \n",
       "\n",
       "       average_cost_for_two  has_table_booking  has_online_delivery  \\\n",
       "count          7.527000e+03        7527.000000          7527.000000   \n",
       "mean           7.152113e+03           0.062176             0.352464   \n",
       "std            2.906068e+05           0.241491             0.477769   \n",
       "min            0.000000e+00           0.000000             0.000000   \n",
       "25%            6.000000e+01           0.000000             0.000000   \n",
       "50%            2.900000e+02           0.000000             0.000000   \n",
       "75%            6.000000e+02           0.000000             1.000000   \n",
       "max            2.500002e+07           1.000000             1.000000   \n",
       "\n",
       "       is_delivering_now  switch_to_order_menu  price_range  aggregate_rating  \\\n",
       "count        7527.000000                7527.0  7527.000000       7527.000000   \n",
       "mean            0.174306                   0.0     2.624552          4.118055   \n",
       "std             0.379397                   0.0     0.959794          0.680191   \n",
       "min             0.000000                   0.0     1.000000          0.000000   \n",
       "25%             0.000000                   0.0     2.000000          4.000000   \n",
       "50%             0.000000                   0.0     3.000000          4.200000   \n",
       "75%             0.000000                   0.0     3.000000          4.500000   \n",
       "max             1.000000                   0.0     4.000000          4.900000   \n",
       "\n",
       "              votes  \n",
       "count   7527.000000  \n",
       "mean     616.401488  \n",
       "std     1127.697932  \n",
       "min        0.000000  \n",
       "25%      152.000000  \n",
       "50%      335.000000  \n",
       "75%      663.000000  \n",
       "max    41333.000000  "
      ]
     },
     "execution_count": 13,
     "metadata": {},
     "output_type": "execute_result"
    }
   ],
   "source": [
    "df1.describe()"
   ]
  },
  {
   "cell_type": "markdown",
   "id": "33dd9167-3807-4f22-885d-117b0c7e6304",
   "metadata": {},
   "source": [
    "# Perguntas do negócio"
   ]
  },
  {
   "cell_type": "markdown",
   "id": "c372537e-1db2-45a6-8fbc-ecab8fcfe6c7",
   "metadata": {},
   "source": [
    "## Geral"
   ]
  },
  {
   "cell_type": "markdown",
   "id": "df5d0b7c-46bb-4cfa-af30-1f9eec1b836b",
   "metadata": {},
   "source": [
    "### 1. Quantos restaurantes únicos estão registrados?"
   ]
  },
  {
   "cell_type": "code",
   "execution_count": 14,
   "id": "a004b282-1aea-4f8c-bd76-a2f51d52f059",
   "metadata": {},
   "outputs": [
    {
     "data": {
      "text/plain": [
       "6942"
      ]
     },
     "execution_count": 14,
     "metadata": {},
     "output_type": "execute_result"
    }
   ],
   "source": [
    "df1['restaurant_id'].nunique()"
   ]
  },
  {
   "cell_type": "markdown",
   "id": "4e1054c4-7e33-41ac-84e4-fdf1ce220d6a",
   "metadata": {},
   "source": [
    "### 2. Quantos paises únicos estão registrados?"
   ]
  },
  {
   "cell_type": "code",
   "execution_count": 16,
   "id": "08338bf8-729b-47a7-90fc-0dc1dd894a5e",
   "metadata": {},
   "outputs": [],
   "source": [
    "country_op = df1['country_name'].unique()"
   ]
  },
  {
   "cell_type": "code",
   "execution_count": 24,
   "id": "9242a848-b36c-4e82-a7a5-1696ae1e8fe8",
   "metadata": {},
   "outputs": [
    {
     "data": {
      "text/plain": [
       "numpy.ndarray"
      ]
     },
     "execution_count": 24,
     "metadata": {},
     "output_type": "execute_result"
    }
   ],
   "source": [
    "type(country_op)"
   ]
  },
  {
   "cell_type": "markdown",
   "id": "246b9fef-4a19-4af5-bdf6-e1bb312f3403",
   "metadata": {},
   "source": [
    "### 3. Quantas cidades únicas estão registradas?"
   ]
  },
  {
   "cell_type": "code",
   "execution_count": null,
   "id": "587d4c76-6984-4a4c-9aa4-e1ddaff91227",
   "metadata": {},
   "outputs": [],
   "source": [
    "df1['city'].nunique()"
   ]
  },
  {
   "cell_type": "markdown",
   "id": "f56de57b-ea8e-40aa-bdee-f6e3197e1dbf",
   "metadata": {},
   "source": [
    "### 4. Qual o total de avaliações feitas?"
   ]
  },
  {
   "cell_type": "code",
   "execution_count": null,
   "id": "a0f729c7-9796-47b5-8288-9288f34d69ee",
   "metadata": {},
   "outputs": [],
   "source": [
    "df1['votes'].count()"
   ]
  },
  {
   "cell_type": "markdown",
   "id": "e9526979-84ab-429b-a4da-c47fdef6928d",
   "metadata": {},
   "source": [
    "### 5. Qual o total de tipos de culinária registrados?"
   ]
  },
  {
   "cell_type": "code",
   "execution_count": null,
   "id": "bc387a9b-1972-41c3-a10e-82c8feaed77f",
   "metadata": {},
   "outputs": [],
   "source": [
    "df1['cuisines'].nunique()"
   ]
  },
  {
   "cell_type": "markdown",
   "id": "92f9b619-8dd7-482b-ad1a-7722c4448eb9",
   "metadata": {},
   "source": [
    "## País"
   ]
  },
  {
   "cell_type": "markdown",
   "id": "d4bcdc85-f47b-4cb1-9bcf-ba937836da9a",
   "metadata": {},
   "source": [
    "### 1. Qual o nome do país que possui mais cidades registradas?"
   ]
  },
  {
   "cell_type": "code",
   "execution_count": null,
   "id": "2d859dc6-c139-4ea4-86e6-9a3b5d226043",
   "metadata": {},
   "outputs": [],
   "source": [
    "df1.groupby('country_name')['city'].count().sort_values(ascending=False).reset_index()"
   ]
  },
  {
   "cell_type": "markdown",
   "id": "46a8608a-d554-4a15-8d65-a578d552eb95",
   "metadata": {},
   "source": [
    "### 2. Qual o nome do país que possui mais restaurantes registrados?"
   ]
  },
  {
   "cell_type": "code",
   "execution_count": null,
   "id": "53062bb5-e24f-4ce8-b8b2-a0b0991e9ecd",
   "metadata": {},
   "outputs": [],
   "source": [
    "df1.groupby('country_name')['restaurant_id'].count().sort_values(ascending=False).reset_index()"
   ]
  },
  {
   "cell_type": "markdown",
   "id": "e8a3aea4-8fd8-4740-a6c4-0ff129f51795",
   "metadata": {},
   "source": [
    "### 3. Qual o nome do país que possui mais restaurantes com os nível de preço igual a 4 registrados?"
   ]
  },
  {
   "cell_type": "code",
   "execution_count": null,
   "id": "84a24f38-2725-4d6a-872a-bde263678584",
   "metadata": {},
   "outputs": [],
   "source": [
    "df1.query('aggregate_rating >= 4').groupby('country_name')['restaurant_id'].count().sort_values(ascending=False).reset_index()"
   ]
  },
  {
   "cell_type": "markdown",
   "id": "74a0cf8f-4faa-42d4-8a4d-dc3e1909178f",
   "metadata": {},
   "source": [
    "### 4. Qual o nome da país que possui a maior quantidade de tipos de culinária distintos?"
   ]
  },
  {
   "cell_type": "code",
   "execution_count": null,
   "id": "10b9e849-388d-4104-b8e4-58eb1740beaf",
   "metadata": {},
   "outputs": [],
   "source": [
    "df1.groupby('country_name')['cuisines'].nunique().sort_values(ascending=False).reset_index()"
   ]
  },
  {
   "cell_type": "markdown",
   "id": "1775600c-6d1b-4a65-bd98-9697464ba57d",
   "metadata": {},
   "source": [
    "### 5. Qual o nome do país que possui a maior quantidade de avaliações feitas?"
   ]
  },
  {
   "cell_type": "code",
   "execution_count": null,
   "id": "5b837506-e11a-47d8-9530-edce565d796f",
   "metadata": {},
   "outputs": [],
   "source": [
    "df1.groupby('country_name')['votes'].nunique().sort_values(ascending=False).reset_index()"
   ]
  },
  {
   "cell_type": "markdown",
   "id": "bea39d4e-e220-4507-9ed5-3669ded7be0d",
   "metadata": {},
   "source": [
    "### 6. Qual o nome do país que possui a maior quantidade de restaurantes que fazem entrega?"
   ]
  },
  {
   "cell_type": "code",
   "execution_count": null,
   "id": "903ea5e2-e60e-4dcc-bcb7-0bb7cdb804b6",
   "metadata": {},
   "outputs": [],
   "source": [
    "df1.query('is_delivering_now == 1').groupby('country_name')['restaurant_id'].count().sort_values(ascending=False).reset_index()"
   ]
  },
  {
   "cell_type": "markdown",
   "id": "cf5d6ad9-c917-47a4-9b8e-953a5c4cc66d",
   "metadata": {},
   "source": [
    "### 7. Qual o nome do país que possui a maior quantidade de restaurantes que aceitam reservas?"
   ]
  },
  {
   "cell_type": "code",
   "execution_count": null,
   "id": "ff2123b8-b56b-41e7-9f26-0a8ccf85fbc3",
   "metadata": {},
   "outputs": [],
   "source": [
    "df1.query('has_table_booking == 1').groupby('country_name')['restaurant_id'].count().sort_values(ascending=False).reset_index()"
   ]
  },
  {
   "cell_type": "markdown",
   "id": "48935159-5a4e-4685-a4de-fcf374e830d2",
   "metadata": {},
   "source": [
    "### 8. Qual o nome do país que possui, na média, a maior quantidade de avaliações registrada?"
   ]
  },
  {
   "cell_type": "code",
   "execution_count": null,
   "id": "f9770a51-0268-455d-8ba2-7a32178f7aa8",
   "metadata": {},
   "outputs": [],
   "source": [
    "df1.groupby('country_name')['votes'].mean().sort_values(ascending=False).reset_index()"
   ]
  },
  {
   "cell_type": "markdown",
   "id": "f2866af5-be48-4a56-af4b-6d0641ffe408",
   "metadata": {},
   "source": [
    "### 9. Qual o nome do país que possui, na média, a maior nota média registrada?"
   ]
  },
  {
   "cell_type": "code",
   "execution_count": null,
   "id": "f37aa8b9-546d-4f1a-8601-24763794f892",
   "metadata": {},
   "outputs": [],
   "source": [
    "df1.groupby('country_name')['aggregate_rating'].mean().sort_values(ascending=False).reset_index()"
   ]
  },
  {
   "cell_type": "markdown",
   "id": "32de8c3d-a8e3-4d61-9fe6-dc7042103146",
   "metadata": {},
   "source": [
    "### 10. Qual o nome do país que possui, na média, a menor nota média registrada?"
   ]
  },
  {
   "cell_type": "code",
   "execution_count": null,
   "id": "141a6a0c-33da-4c03-9df5-89c07b86cb88",
   "metadata": {},
   "outputs": [],
   "source": [
    "df1.groupby('country_name')['aggregate_rating'].mean().sort_values(ascending=True).reset_index()"
   ]
  },
  {
   "cell_type": "markdown",
   "id": "5f9a072a-e1a9-402e-a8c8-b4114a594ba8",
   "metadata": {},
   "source": [
    "### 11. Qual a média de preço de um prato para dois por país?"
   ]
  },
  {
   "cell_type": "code",
   "execution_count": null,
   "id": "5992ea40-9fed-4844-ad7b-c3c63478891d",
   "metadata": {},
   "outputs": [],
   "source": [
    "df1.groupby('country_name')['average_cost_for_two'].mean().sort_values(ascending=False).reset_index()"
   ]
  },
  {
   "cell_type": "markdown",
   "id": "e189a066-6d71-4b06-9942-66c7ad61ea07",
   "metadata": {},
   "source": [
    "## Cidades"
   ]
  },
  {
   "cell_type": "markdown",
   "id": "6a63baaf-bef8-4a4f-8786-fce1df2bec52",
   "metadata": {},
   "source": [
    "### 1. Qual o nome da cidade que possui mais restaurantes registrados?"
   ]
  },
  {
   "cell_type": "code",
   "execution_count": null,
   "id": "811ef874-9479-491a-9dac-85f75924f758",
   "metadata": {},
   "outputs": [],
   "source": [
    "df1.groupby('city')['restaurant_id'].count().sort_values(ascending=False).reset_index().head()"
   ]
  },
  {
   "cell_type": "markdown",
   "id": "ab59453d-36b6-4e41-9959-c58616745064",
   "metadata": {},
   "source": [
    "### 2. Qual o nome da cidade que possui mais restaurantes com nota média acima de 4?"
   ]
  },
  {
   "cell_type": "code",
   "execution_count": null,
   "id": "db7e38f3-1de9-4cce-9ccb-a31ebb075f37",
   "metadata": {},
   "outputs": [],
   "source": [
    "df1.query('aggregate_rating >= 4').groupby('city')['restaurant_id'].count().sort_values(ascending=False).reset_index().head()"
   ]
  },
  {
   "cell_type": "markdown",
   "id": "2ac494b4-bcb6-42f2-82df-f4397f65fcf3",
   "metadata": {},
   "source": [
    "### 3. Qual o nome da cidade que possui mais restaurantes com nota média abaixo de 2.5?"
   ]
  },
  {
   "cell_type": "code",
   "execution_count": null,
   "id": "b1afe847-b61a-408c-b817-634ac4852ca7",
   "metadata": {},
   "outputs": [],
   "source": [
    "df1.query('aggregate_rating <= 2.5').groupby('city')['restaurant_id'].count().sort_values(ascending=False).reset_index().head()"
   ]
  },
  {
   "cell_type": "markdown",
   "id": "49316499-2300-47f5-b9b8-be127f1e3023",
   "metadata": {},
   "source": [
    "### 4. Qual o nome da cidade que possui o maior valor médio de um prato para dois?"
   ]
  },
  {
   "cell_type": "code",
   "execution_count": null,
   "id": "6323d6fd-1155-4535-af7d-0c52556319ff",
   "metadata": {},
   "outputs": [],
   "source": [
    "df1.groupby('city')['average_cost_for_two'].mean().sort_values(ascending=False).reset_index().head()"
   ]
  },
  {
   "cell_type": "markdown",
   "id": "a72579c9-1e35-4bb3-8c45-ebadd0242668",
   "metadata": {},
   "source": [
    "### 5. Qual o nome da cidade que possui a maior quantidade de tipos de culinária distintas?"
   ]
  },
  {
   "cell_type": "code",
   "execution_count": null,
   "id": "fb1c65cf-4451-4105-bdf0-f47cecb48519",
   "metadata": {},
   "outputs": [],
   "source": [
    "df1.groupby('city')['cuisines'].nunique().sort_values(ascending=False).reset_index().head()"
   ]
  },
  {
   "cell_type": "markdown",
   "id": "2779a2a1-f57e-4f14-ac1f-40b10f813eb9",
   "metadata": {},
   "source": [
    "### 6. Qual o nome da cidade que possui a maior quantidade de restaurantes que fazem reservas?"
   ]
  },
  {
   "cell_type": "code",
   "execution_count": null,
   "id": "9222d481-0579-47fd-b406-64b4e637c713",
   "metadata": {},
   "outputs": [],
   "source": [
    "df1.query('has_table_booking == 1').groupby('city')['restaurant_id'].count().sort_values(ascending=False).reset_index().head()"
   ]
  },
  {
   "cell_type": "markdown",
   "id": "d1bc98f6-8f59-4dd6-abd5-a45acea6c17e",
   "metadata": {},
   "source": [
    "### 7. Qual o nome da cidade que possui a maior quantidade de restaurantes que fazem entregas?"
   ]
  },
  {
   "cell_type": "code",
   "execution_count": null,
   "id": "494d61b7-d511-47db-9b11-ef234753f4b1",
   "metadata": {},
   "outputs": [],
   "source": [
    "df1.query('is_delivering_now == 1').groupby('city')['restaurant_id'].count().sort_values(ascending=False).reset_index().head()"
   ]
  },
  {
   "cell_type": "markdown",
   "id": "49729562-5797-4e00-9010-7cbdae01cd7e",
   "metadata": {},
   "source": [
    "### 8. Qual o nome da cidade que possui a maior quantidade de restaurantes que aceitam pedidos online?"
   ]
  },
  {
   "cell_type": "code",
   "execution_count": null,
   "id": "a5fde831-1759-472e-8502-dcfd0453d221",
   "metadata": {},
   "outputs": [],
   "source": [
    "df1.query('has_online_delivery == 1').groupby('city')['restaurant_id'].count().sort_values(ascending=False).reset_index().head()"
   ]
  },
  {
   "cell_type": "markdown",
   "id": "fb2dd9f1-400a-4ad9-bab2-9fbddc0b3e02",
   "metadata": {},
   "source": [
    "## Restaurantes"
   ]
  },
  {
   "cell_type": "markdown",
   "id": "eb0d37e2-b30a-4589-ae6d-cb1292af54d9",
   "metadata": {},
   "source": [
    "### 1. Qual o nome do restaurante que possui a maior quantidade de avaliações?"
   ]
  },
  {
   "cell_type": "code",
   "execution_count": null,
   "id": "b613788a-898c-4389-a2b5-b08b0d8c55d0",
   "metadata": {},
   "outputs": [],
   "source": [
    "df1.loc[:, ['restaurant_name', 'votes']].sort_values('votes', ascending=False).head()"
   ]
  },
  {
   "cell_type": "markdown",
   "id": "c8db3707-6fab-492c-a858-02a61323112c",
   "metadata": {},
   "source": [
    "### 2. Qual o nome do restaurante com a maior nota média?"
   ]
  },
  {
   "cell_type": "code",
   "execution_count": null,
   "id": "d42f0427-69c0-4e68-9020-13d2f18a6283",
   "metadata": {},
   "outputs": [],
   "source": [
    "df1.groupby('restaurant_name')['aggregate_rating'].mean().sort_values(ascending=False).reset_index().head()"
   ]
  },
  {
   "cell_type": "markdown",
   "id": "d42e7fed-47f9-41de-955d-c56832bd2951",
   "metadata": {},
   "source": [
    "### 3. Qual o nome do restaurante que possui o maior valor de uma prato para duas pessoas?"
   ]
  },
  {
   "cell_type": "code",
   "execution_count": null,
   "id": "7d472598-432f-4793-958f-f89fd4d9f7cc",
   "metadata": {},
   "outputs": [],
   "source": [
    "df1.groupby('restaurant_name')['average_cost_for_two'].mean().sort_values(ascending=False).reset_index().head()"
   ]
  },
  {
   "cell_type": "markdown",
   "id": "6a341edd-196b-4d8e-ad01-7e8952d45f4b",
   "metadata": {},
   "source": [
    "### 4. Qual o nome do restaurante de tipo de culinária brasileira que possui a menor média de avaliação?"
   ]
  },
  {
   "cell_type": "code",
   "execution_count": null,
   "id": "cfb7b5be-7095-48b6-9b7e-c7b3dd86ecf9",
   "metadata": {},
   "outputs": [],
   "source": [
    "df1.query('cuisines == \"Brazilian\"').groupby('restaurant_name')['aggregate_rating'].mean().sort_values(ascending=True).reset_index().head()"
   ]
  },
  {
   "cell_type": "markdown",
   "id": "c14dc695-a6c8-4028-80b4-2b25566942cd",
   "metadata": {},
   "source": [
    "### 5. Qual o nome do restaurante de tipo de culinária brasileira, e que é do Brasil, que possui a maior média de avaliação?"
   ]
  },
  {
   "cell_type": "code",
   "execution_count": null,
   "id": "db4be677-e949-4012-9bb9-e113eefbde0c",
   "metadata": {},
   "outputs": [],
   "source": [
    "df1.query('cuisines == \"Brazilian\" & country_name == \"Brazil\"').groupby('restaurant_name')['aggregate_rating'].mean().sort_values(ascending=False).reset_index().head()"
   ]
  },
  {
   "cell_type": "markdown",
   "id": "e2852854-0a3e-4331-9036-f59285cb1558",
   "metadata": {},
   "source": [
    "### 6. Os restaurantes que aceitam pedido online são também, na média, os restaurantes que mais possuem avaliações registradas?"
   ]
  },
  {
   "cell_type": "code",
   "execution_count": null,
   "id": "66206680-f34a-4a66-bea4-bbceb66b7608",
   "metadata": {},
   "outputs": [],
   "source": [
    "df1.groupby('has_online_delivery')['votes'].mean().reset_index()"
   ]
  },
  {
   "cell_type": "markdown",
   "id": "61bb8b25-0b1b-4fef-b742-f0745078e349",
   "metadata": {},
   "source": [
    "### 7. Os restaurantes que fazem reservas são também, na média, os restaurantes que possuem o maior valor médio de um prato para duas pessoas?"
   ]
  },
  {
   "cell_type": "code",
   "execution_count": null,
   "id": "05248451-823b-410a-bb16-93252bbde8f5",
   "metadata": {},
   "outputs": [],
   "source": [
    "df1.groupby('has_table_booking')['average_cost_for_two'].mean().reset_index()"
   ]
  },
  {
   "cell_type": "markdown",
   "id": "1854b150-27b5-4b4c-84c8-fda5785811b3",
   "metadata": {},
   "source": [
    "### 8. Os restaurantes do tipo de culinária japonesa dos Estados Unidos da América possuem um valor médio de prato para duas pessoas maior que as churrascarias americanas (BBQ)?"
   ]
  },
  {
   "cell_type": "code",
   "execution_count": null,
   "id": "134d57bd-2368-4aa3-9d25-f803ba1a7313",
   "metadata": {},
   "outputs": [],
   "source": [
    "df1.query('cuisines == \"Japanese\" | cuisines == \"BBQ\" & country_name == \"United States of America\"').groupby('cuisines')['average_cost_for_two'].mean().reset_index()"
   ]
  },
  {
   "cell_type": "markdown",
   "id": "cd3adc11-17a1-47c7-82d3-ea5b2f9eea63",
   "metadata": {},
   "source": [
    "## Tipo de Colunária"
   ]
  },
  {
   "cell_type": "markdown",
   "id": "8f62058b-1ca1-47ec-9a52-1e89ff9686c3",
   "metadata": {},
   "source": [
    "### 1. Dos restaurantes que possuem o tipo de culinária italiana, qual o nome do restaurante com a maior média de avaliação?"
   ]
  },
  {
   "cell_type": "code",
   "execution_count": null,
   "id": "2499f65d-7ee4-4edf-8f86-8eeab7b3dea3",
   "metadata": {},
   "outputs": [],
   "source": [
    "df1.query('cuisines == \"Italian\"').groupby('restaurant_name')['aggregate_rating'].mean().sort_values(ascending=False).reset_index().head()"
   ]
  },
  {
   "cell_type": "markdown",
   "id": "36058a88-f8ca-449c-bb87-174450cfeec5",
   "metadata": {},
   "source": [
    "### 2. Dos restaurantes que possuem o tipo de culinária italiana, qual o nome do restaurante com a menor média de avaliação?"
   ]
  },
  {
   "cell_type": "code",
   "execution_count": null,
   "id": "652faf0f-18d8-4395-bbb3-9d9036b31153",
   "metadata": {},
   "outputs": [],
   "source": [
    "df1.query('cuisines == \"Italian\"').groupby('restaurant_name')['aggregate_rating'].mean().sort_values(ascending=True).reset_index().head()"
   ]
  },
  {
   "cell_type": "markdown",
   "id": "7830c6a1-49fb-4315-80f7-ed0816b42876",
   "metadata": {},
   "source": [
    "### 3. Dos restaurantes que possuem o tipo de culinária americana, qual o nome do restaurante com a maior média de avaliação?"
   ]
  },
  {
   "cell_type": "code",
   "execution_count": null,
   "id": "8bcf1e01-c708-471f-bdf6-0bf04227881a",
   "metadata": {},
   "outputs": [],
   "source": [
    "df1.query('cuisines == \"American\"').groupby('restaurant_name')['aggregate_rating'].mean().sort_values(ascending=False).reset_index().head()"
   ]
  },
  {
   "cell_type": "markdown",
   "id": "b894869e-a0e9-44cf-91f4-e4f8e1a7671a",
   "metadata": {},
   "source": [
    "### 4. Dos restaurantes que possuem o tipo de culinária americana, qual o nome do restaurante com a menor média de avaliação?"
   ]
  },
  {
   "cell_type": "code",
   "execution_count": null,
   "id": "6bc9535d-9145-4982-be60-245015ee6ce9",
   "metadata": {},
   "outputs": [],
   "source": [
    "df1.query('cuisines == \"American\"').groupby('restaurant_name')['aggregate_rating'].mean().sort_values(ascending=True).reset_index().head()"
   ]
  },
  {
   "cell_type": "markdown",
   "id": "53a71bcf-67f6-41ca-9c63-aa4fee7fdfdd",
   "metadata": {},
   "source": [
    "### 5. Dos restaurantes que possuem o tipo de culinária árabe, qual o nome do restaurante com a maior média de avaliação?"
   ]
  },
  {
   "cell_type": "code",
   "execution_count": null,
   "id": "8b061144-2f75-462e-a395-2bf323f9adc4",
   "metadata": {},
   "outputs": [],
   "source": [
    "df1.query('cuisines == \"Arabian\"').groupby('restaurant_name')['aggregate_rating'].mean().sort_values(ascending=False).reset_index().head()"
   ]
  },
  {
   "cell_type": "markdown",
   "id": "a08f659a-5360-44db-9600-0bd57a2f6c9f",
   "metadata": {},
   "source": [
    "### 6. Dos restaurantes que possuem o tipo de culinária árabe, qual o nome do restaurante com a menor média de avaliação?"
   ]
  },
  {
   "cell_type": "code",
   "execution_count": null,
   "id": "8c4f34a6-a1c7-4385-9977-4dec5833fdae",
   "metadata": {},
   "outputs": [],
   "source": [
    "df1.query('cuisines == \"Arabian\"').groupby('restaurant_name')['aggregate_rating'].mean().sort_values(ascending=True).reset_index().head()"
   ]
  },
  {
   "cell_type": "markdown",
   "id": "4cca4917-f084-475f-aa3d-3b5b435ba9d7",
   "metadata": {},
   "source": [
    "### 7. Dos restaurantes que possuem o tipo de culinária japonesa, qual o nome do restaurante com a maior média de avaliação?"
   ]
  },
  {
   "cell_type": "code",
   "execution_count": null,
   "id": "3cf97bf8-bd8d-4275-a9d6-1907bf359db6",
   "metadata": {},
   "outputs": [],
   "source": [
    "df1.query('cuisines == \"Japanese\"').groupby('restaurant_name')['aggregate_rating'].mean().sort_values(ascending=False).reset_index().head()"
   ]
  },
  {
   "cell_type": "markdown",
   "id": "4b3c024f-1da9-49c5-aae1-e4cdd8e05bae",
   "metadata": {},
   "source": [
    "### 8. Dos restaurantes que possuem o tipo de culinária japonesa, qual o nome do restaurante com a menor média de avaliação?"
   ]
  },
  {
   "cell_type": "code",
   "execution_count": null,
   "id": "4bdcf4ab-4021-4b5e-a4d7-a1cb98325139",
   "metadata": {},
   "outputs": [],
   "source": [
    "df1.query('cuisines == \"Japanese\"').groupby('restaurant_name')['aggregate_rating'].mean().sort_values(ascending=True).reset_index().head()"
   ]
  },
  {
   "cell_type": "markdown",
   "id": "6b6e74c0-6cd4-4a44-8070-c031b013408e",
   "metadata": {},
   "source": [
    "### 9. Dos restaurantes que possuem o tipo de culinária caseira, qual o nome do restaurante com a maior média de avaliação?"
   ]
  },
  {
   "cell_type": "code",
   "execution_count": null,
   "id": "fae4113b-1f5b-4f4e-bc4a-0528f835a9e3",
   "metadata": {},
   "outputs": [],
   "source": [
    "df1.query('cuisines == \"Home-made\"').groupby('restaurant_name')['aggregate_rating'].mean().sort_values(ascending=False).reset_index().head()"
   ]
  },
  {
   "cell_type": "markdown",
   "id": "7cd9419d-3967-4e3b-b305-d17692f665f4",
   "metadata": {},
   "source": [
    "### 10. Dos restaurantes que possuem o tipo de culinária caseira, qual o nome do restaurante com a menor média de avaliação?"
   ]
  },
  {
   "cell_type": "code",
   "execution_count": null,
   "id": "2e5374e1-cb63-434e-958b-6162003e4336",
   "metadata": {},
   "outputs": [],
   "source": [
    "df1.query('cuisines == \"Home-made\"').groupby('restaurant_name')['aggregate_rating'].mean().sort_values(ascending=True).reset_index().head()"
   ]
  },
  {
   "cell_type": "markdown",
   "id": "de257266-060f-4d08-ab01-0d0ad46b9e4c",
   "metadata": {},
   "source": [
    "### 11. Qual o tipo de culinária que possui o maior valor médio de um prato para duas pessoas?"
   ]
  },
  {
   "cell_type": "code",
   "execution_count": null,
   "id": "2c5aa077-2af0-4194-9616-0fc0e174eebb",
   "metadata": {},
   "outputs": [],
   "source": [
    "df1.groupby('cuisines')['average_cost_for_two'].mean().sort_values(ascending=False).reset_index().head()"
   ]
  },
  {
   "cell_type": "markdown",
   "id": "c62e9220-6bbd-491f-9d6c-350d78df59ad",
   "metadata": {},
   "source": [
    "### 12. Qual o tipo de culinária que possui a maior nota média?"
   ]
  },
  {
   "cell_type": "code",
   "execution_count": null,
   "id": "6cfcccb3-1126-4667-ad36-02d97dd50038",
   "metadata": {},
   "outputs": [],
   "source": [
    "df1.groupby('cuisines')['aggregate_rating'].mean().sort_values(ascending=False).reset_index().head()"
   ]
  },
  {
   "cell_type": "markdown",
   "id": "09424450-4166-4f52-9edd-42c6fd693378",
   "metadata": {},
   "source": [
    "### 13. Qual o tipo de culinária que possui mais restaurantes que aceitam pedidos online e fazem entregas?"
   ]
  },
  {
   "cell_type": "code",
   "execution_count": null,
   "id": "c3b9de18-d105-423f-8705-8a3891fdc81f",
   "metadata": {},
   "outputs": [],
   "source": [
    "df1.query('has_online_delivery == 1 | is_delivering_now == 1').groupby('cuisines')['restaurant_id'].count().sort_values(ascending=False).reset_index().head()"
   ]
  },
  {
   "cell_type": "code",
   "execution_count": null,
   "id": "9ba274dc-ba5a-47fb-8fd9-629f0b13c714",
   "metadata": {},
   "outputs": [],
   "source": []
  }
 ],
 "metadata": {
  "kernelspec": {
   "display_name": "Python 3 (ipykernel)",
   "language": "python",
   "name": "python3"
  },
  "language_info": {
   "codemirror_mode": {
    "name": "ipython",
    "version": 3
   },
   "file_extension": ".py",
   "mimetype": "text/x-python",
   "name": "python",
   "nbconvert_exporter": "python",
   "pygments_lexer": "ipython3",
   "version": "3.9.12"
  }
 },
 "nbformat": 4,
 "nbformat_minor": 5
}
